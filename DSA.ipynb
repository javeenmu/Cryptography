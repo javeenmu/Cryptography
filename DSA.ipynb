{
 "cells": [
  {
   "cell_type": "code",
   "execution_count": 1,
   "id": "3b0fd195-5c42-4f4c-918c-2dd5973051c8",
   "metadata": {},
   "outputs": [
    {
     "name": "stdout",
     "output_type": "stream",
     "text": [
      "p:  10601\n",
      "a:  1\n",
      "alpha:  1394\n",
      "beta:  1075\n",
      "x_ori:  10084\n",
      "ab_point:  (1394, 1075)\n",
      "y:  (3421, 8687)\n",
      "Signature verification successful: y is genuine.\n"
     ]
    }
   ],
   "source": [
    "import random\n",
    "\n",
    "# Extended Euclidean Algorithm to find the modular inverse\n",
    "def extended_gcd(a, b):\n",
    "    if b == 0:\n",
    "        return a, 1, 0\n",
    "    else:\n",
    "        d, x, y = extended_gcd(b, a % b)\n",
    "        return d, y, x - (a // b) * y\n",
    "\n",
    "# Modular inverse\n",
    "def modinv(a, m):\n",
    "    d, x, _ = extended_gcd(a, m)\n",
    "    if d == 1:\n",
    "        return x % m\n",
    "\n",
    "# Elliptic curve point addition\n",
    "def point_addition(p, q, a, b, p_mod):\n",
    "    if p == (0, 0):  # Point at infinity\n",
    "        return q\n",
    "    if q == (0, 0):  # Point at infinity\n",
    "        return p\n",
    "\n",
    "    if p != q:\n",
    "        m = ((q[1] - p[1]) * modinv(q[0] - p[0], p_mod)) % p_mod\n",
    "    else:\n",
    "        m = ((3 * p[0]**2 + a) * modinv(2 * p[1], p_mod)) % p_mod\n",
    "\n",
    "    x_r = (m**2 - p[0] - q[0]) % p_mod\n",
    "    y_r = (m * (p[0] - x_r) - p[1]) % p_mod\n",
    "\n",
    "    return x_r, y_r\n",
    "\n",
    "# Elliptic curve point multiplication\n",
    "def point_multiplication(k, p, a, b, p_mod):\n",
    "    result = (0, 0)\n",
    "\n",
    "    for _ in range(k.bit_length()):\n",
    "        if k & 1:\n",
    "            result = point_addition(result, p, a, b, p_mod)\n",
    "        p = point_addition(p, p, a, b, p_mod)\n",
    "        k >>= 1\n",
    "\n",
    "    return result\n",
    "\n",
    "# Step 1-3: Read prime numbers p and a\n",
    "p = 10601\n",
    "a = 1\n",
    "\n",
    "# Step 4: Choose random co-primes alpha and beta, and x's original signature x\n",
    "alpha = random.randint(1, p - 1)\n",
    "beta = random.randint(1, p - 1)\n",
    "x_original_signature = random.randint(1, p - 1)\n",
    "\n",
    "# Step 5: Apply it to the elliptic curve cryptographic equation to obtain y\n",
    "alpha_beta_point = (alpha, beta)\n",
    "y = point_multiplication(x_original_signature, alpha_beta_point, a, 1, p)\n",
    "actual_y_document = y\n",
    "\n",
    "# Step 6: Compare y with the actual y's document\n",
    "print(\"p: \", p)\n",
    "print(\"a: \", a)\n",
    "print(\"alpha: \", alpha)\n",
    "print(\"beta: \", beta)\n",
    "print(\"x_ori: \", x_original_signature )\n",
    "print(\"ab_point: \", alpha_beta_point )\n",
    "print(\"y: \", y)\n",
    "if y == actual_y_document:\n",
    "    print(\"Signature verification successful: y is genuine.\")\n",
    "else:\n",
    "    print(\"Forgery detected: y is not a valid signature.\")"
   ]
  },
  {
   "cell_type": "code",
   "execution_count": null,
   "id": "7331f2ac-5d27-4537-bbfe-67dc00c4b69c",
   "metadata": {},
   "outputs": [],
   "source": []
  }
 ],
 "metadata": {
  "kernelspec": {
   "display_name": "Python 3 (ipykernel)",
   "language": "python",
   "name": "python3"
  },
  "language_info": {
   "codemirror_mode": {
    "name": "ipython",
    "version": 3
   },
   "file_extension": ".py",
   "mimetype": "text/x-python",
   "name": "python",
   "nbconvert_exporter": "python",
   "pygments_lexer": "ipython3",
   "version": "3.11.7"
  }
 },
 "nbformat": 4,
 "nbformat_minor": 5
}
