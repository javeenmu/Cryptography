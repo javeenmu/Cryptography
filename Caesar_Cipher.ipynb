{
 "cells": [
  {
   "cell_type": "code",
   "execution_count": null,
   "id": "74dbb7d7-6ab3-4bfc-b917-df3ad38403f1",
   "metadata": {},
   "outputs": [],
   "source": [
    "def encrypt(plaintext, shift):\n",
    "    encrypted_text = \"\"\n",
    "    for char in plaintext:\n",
    "        if char.isalpha():\n",
    "            if char.islower():\n",
    "                encrypted_text += chr((ord(char) - ord('a') + shift) % 26 + ord('a'))\n",
    "            else:\n",
    "                encrypted_text += chr((ord(char) - ord('A') + shift) % 26 + ord('A'))\n",
    "        else:\n",
    "            encrypted_text += char\n",
    "    return encrypted_text\n",
    "\n",
    "def decrypt(ciphertext, shift):\n",
    "    decrypted_text = \"\"\n",
    "    for char in ciphertext:\n",
    "        if char.isalpha():\n",
    "            if char.islower():\n",
    "                decrypted_text += chr((ord(char) - ord('a') - shift) % 26 + ord('a'))\n",
    "            else:\n",
    "                decrypted_text += chr((ord(char) - ord('A') - shift) % 26 + ord('A'))\n",
    "        else:\n",
    "            decrypted_text += char\n",
    "    return decrypted_text\n",
    "\n",
    "# Example usage:\n",
    "plaintext = \"Hello, World!\"\n",
    "shift_value = 3\n",
    "print(\"Plain Text:\", plaintext)\n",
    "print(\"Key:\", shift_value)\n",
    "# Encryption\n",
    "encrypted_text = encrypt(plaintext, shift_value)\n",
    "print(\"Encrypted Text:\", encrypted_text)\n",
    "\n",
    "# Decryption\n",
    "decrypted_text = decrypt(encrypted_text, shift_value)\n",
    "print(\"Decrypted Text:\", decrypted_text)"
   ]
  }
 ],
 "metadata": {
  "kernelspec": {
   "display_name": "Python 3 (ipykernel)",
   "language": "python",
   "name": "python3"
  },
  "language_info": {
   "codemirror_mode": {
    "name": "ipython",
    "version": 3
   },
   "file_extension": ".py",
   "mimetype": "text/x-python",
   "name": "python",
   "nbconvert_exporter": "python",
   "pygments_lexer": "ipython3",
   "version": "3.11.7"
  }
 },
 "nbformat": 4,
 "nbformat_minor": 5
}
