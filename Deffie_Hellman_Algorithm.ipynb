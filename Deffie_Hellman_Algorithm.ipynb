{
 "cells": [
  {
   "cell_type": "code",
   "execution_count": null,
   "id": "0848b836-5b81-4d96-adcc-ee8d7f1afc88",
   "metadata": {},
   "outputs": [],
   "source": [
    "def prime_checker(p):\n",
    "    if p < 1:\n",
    "        return -1\n",
    "    elif p > 1:\n",
    "        if p == 2:\n",
    "            return 1\n",
    "        for i in range(2, p):\n",
    "            if p % i == 0:\n",
    "                return -1\n",
    "            return 1\n",
    " \n",
    "def primitive_check(g, p, L):\n",
    "    for i in range(1, p):\n",
    "        L.append(pow(g, i) % p)\n",
    "    for i in range(1, p):\n",
    "        if L.count(i) > 1:\n",
    "            L.clear()\n",
    "            return -1\n",
    "        return 1\n",
    " \n",
    "l = []\n",
    "P = int(input(\"Enter P : \"))\n",
    "G = int(input(f\"Enter The Primitive Root Of {P} : \"))\n",
    "x1 = int(input(\"Enter The Private Key Of User 1 : \"))\n",
    "x2 = int(input(\"Enter The Private Key Of User 2 : \"))\n",
    "y1, y2 = pow(G, x1) % P, pow(G, x2) % P\n",
    "k1, k2 = pow(y2, x1) % P, pow(y1, x2) % P\n",
    "print(f\"\\nSecret Key For User 1 Is {k1}\\nSecret Key For User 2 Is {k2}\\n\")\n",
    "if k1 == k2:\n",
    "    print(\"Keys Have Been Exchanged Successfully\")\n",
    "else:\n",
    "    print(\"Keys Have Not Been Exchanged Successfully\")"
   ]
  },
  {
   "cell_type": "code",
   "execution_count": null,
   "id": "dcac3317-7434-4abe-9c18-41f2cc5530a9",
   "metadata": {},
   "outputs": [],
   "source": []
  }
 ],
 "metadata": {
  "kernelspec": {
   "display_name": "Python 3 (ipykernel)",
   "language": "python",
   "name": "python3"
  },
  "language_info": {
   "codemirror_mode": {
    "name": "ipython",
    "version": 3
   },
   "file_extension": ".py",
   "mimetype": "text/x-python",
   "name": "python",
   "nbconvert_exporter": "python",
   "pygments_lexer": "ipython3",
   "version": "3.11.7"
  }
 },
 "nbformat": 4,
 "nbformat_minor": 5
}
