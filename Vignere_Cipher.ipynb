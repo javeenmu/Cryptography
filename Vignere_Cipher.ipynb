{
 "cells": [
  {
   "cell_type": "code",
   "execution_count": null,
   "id": "465f0e43-7eae-43cb-a4be-4254bf22f5e5",
   "metadata": {},
   "outputs": [],
   "source": [
    "def vigenere_encrypt(plaintext, key):\n",
    "    encrypted_text = \"\"\n",
    "    key_length = len(key)\n",
    "    key_repeated = (key * (len(plaintext) // key_length + 1))[:len(plaintext)]\n",
    "    \n",
    "    for i in range(len(plaintext)):\n",
    "        char = plaintext[i]\n",
    "        if char.isalpha():\n",
    "            shift = ord(key_repeated[i].upper()) - ord('A')\n",
    "            if char.islower():\n",
    "                encrypted_text += chr((ord(char) - ord('a') + shift) % 26 + ord('a'))\n",
    "            else:\n",
    "                encrypted_text += chr((ord(char) - ord('A') + shift) % 26 + ord('A'))\n",
    "        else:\n",
    "            encrypted_text += char\n",
    "    \n",
    "    return encrypted_text\n",
    "\n",
    "def vigenere_decrypt(ciphertext, key):\n",
    "    decrypted_text = \"\"\n",
    "    key_length = len(key)\n",
    "    key_repeated = (key * (len(ciphertext) // key_length + 1))[:len(ciphertext)]\n",
    "    \n",
    "    for i in range(len(ciphertext)):\n",
    "        char = ciphertext[i]\n",
    "        if char.isalpha():\n",
    "            shift = ord(key_repeated[i].upper()) - ord('A')\n",
    "            if char.islower():\n",
    "                decrypted_text += chr((ord(char) - ord('a') - shift) % 26 + ord('a'))\n",
    "            else:\n",
    "                decrypted_text += chr((ord(char) - ord('A') - shift) % 26 + ord('A'))\n",
    "        else:\n",
    "            decrypted_text += char\n",
    "    \n",
    "    return decrypted_text\n",
    "\n",
    "# Example usage:\n",
    "plaintext = \"HELLO\"\n",
    "key = \"KEY\"\n",
    "print(\"Plain Text:\", plaintext)\n",
    "print(\"Key:\", key)\n",
    "\n",
    "# Encryption\n",
    "encrypted_text = vigenere_encrypt(plaintext, key)\n",
    "print(\"Encrypted Text:\", encrypted_text)\n",
    "\n",
    "# Decryption\n",
    "decrypted_text = vigenere_decrypt(encrypted_text, key)\n",
    "print(\"Decrypted Text:\", decrypted_text)"
   ]
  }
 ],
 "metadata": {
  "kernelspec": {
   "display_name": "Python 3 (ipykernel)",
   "language": "python",
   "name": "python3"
  },
  "language_info": {
   "codemirror_mode": {
    "name": "ipython",
    "version": 3
   },
   "file_extension": ".py",
   "mimetype": "text/x-python",
   "name": "python",
   "nbconvert_exporter": "python",
   "pygments_lexer": "ipython3",
   "version": "3.11.7"
  }
 },
 "nbformat": 4,
 "nbformat_minor": 5
}
