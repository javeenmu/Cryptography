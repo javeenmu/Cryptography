{
 "cells": [
  {
   "cell_type": "code",
   "execution_count": null,
   "id": "3e7d167c-20b5-41a6-8caf-33e2e5ce28dd",
   "metadata": {},
   "outputs": [],
   "source": [
    "def RC4(key, plaintext):\n",
    "    S = list(range(256))\n",
    "    j = 0\n",
    "    for i in range(256):\n",
    "        j = (j + S[i] + int(key[i % len(key)])) % 256\n",
    "        S[i], S[j] = S[j], S[i]\n",
    "\n",
    "    i = j = 0\n",
    "    keystream = \"\"\n",
    "    for r in range(len(plaintext)):\n",
    "        i = (i + 1) % 256\n",
    "        j = (j + S[i]) % 256\n",
    "        S[i], S[j] = S[j], S[i]\n",
    "        keystream += str(S[(S[i] + S[j]) % 256])\n",
    "\n",
    "    ciphertext = \"\"\n",
    "    for i in range(len(plaintext)):\n",
    "        ciphertext += str(int(plaintext[i]) ^ int(keystream[i]))\n",
    "\n",
    "    decrypted_text = \"\"\n",
    "    for i in range(len(ciphertext)):\n",
    "        decrypted_text += str(int(ciphertext[i]) ^ int(keystream[i]))\n",
    "\n",
    "    return ciphertext, decrypted_text\n",
    "\n",
    "# Example usage\n",
    "key = \"101001000001\"\n",
    "plaintext = \"001010010010\"\n",
    "ciphertext, decrypted_text = RC4(key, plaintext)\n",
    "print(\"Plain text    :\", plaintext)\n",
    "print(\"Encrypted text:\", ciphertext)\n",
    "print(\"Decrypted text:\", decrypted_text)"
   ]
  }
 ],
 "metadata": {
  "kernelspec": {
   "display_name": "Python 3 (ipykernel)",
   "language": "python",
   "name": "python3"
  },
  "language_info": {
   "codemirror_mode": {
    "name": "ipython",
    "version": 3
   },
   "file_extension": ".py",
   "mimetype": "text/x-python",
   "name": "python",
   "nbconvert_exporter": "python",
   "pygments_lexer": "ipython3",
   "version": "3.11.7"
  }
 },
 "nbformat": 4,
 "nbformat_minor": 5
}
