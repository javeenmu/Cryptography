{
 "cells": [
  {
   "cell_type": "code",
   "execution_count": 1,
   "id": "f933723f-5d6e-456c-a88b-e6c68ceba733",
   "metadata": {},
   "outputs": [
    {
     "name": "stdout",
     "output_type": "stream",
     "text": [
      "SHA1(\"\") = C891AA6881C4DBBB975B53FD10667E182CA986A3\n",
      "SHA1(\"abc\") = 9C80D0F72A11FE6F3919C20CED200A71EA6A9A93\n",
      "SHA1(\"abcdefghijklmnopqrstuvwxyz\") = 2401346F8379C92BB19A2F89593A943295BDAB9C\n"
     ]
    }
   ],
   "source": [
    "def sha1(message):\n",
    "    def left_rotate(n, b):\n",
    "        return ((n << b) | (n >> (32 - b))) & 0xFFFFFFFF\n",
    "\n",
    "    message += b'\\x80'\n",
    "    while len(message) % 64 != 56:\n",
    "        message += b'\\x00'\n",
    "    message += (8 * len(message)).to_bytes(8, 'big')\n",
    "    h0, h1, h2, h3, h4 = 0x67452301, 0xEFCDAB89, 0x98BADCFE, 0x10325476, 0xC3D2E1F0\n",
    "    for i in range(0, len(message), 64):\n",
    "        block = message[i:i + 64]\n",
    "        w = [int.from_bytes(block[j:j + 4], 'big') for j in range(0, 64, 4)]\n",
    "        for j in range(16, 80):\n",
    "            w.append(left_rotate(w[j - 3] ^ w[j - 8] ^ w[j - 14] ^ w[j - 16], 1))\n",
    "        a, b, c, d, e = h0, h1, h2, h3, h4\n",
    "        for j in range(80):\n",
    "            if 0 <= j <= 19:\n",
    "                f = (b & c) | ((~b) & d)\n",
    "                k = 0x5A827999\n",
    "            elif 20 <= j <= 39:\n",
    "                f = b ^ c ^ d\n",
    "                k = 0x6ED9EBA1\n",
    "            elif 40 <= j <= 59:\n",
    "                f = (b & c) | (b & d) | (c & d)\n",
    "                k = 0x8F1BBCDC\n",
    "            else:\n",
    "                f = b ^ c ^ d\n",
    "                k = 0xCA62C1D6\n",
    "            temp = left_rotate(a, 5) + f + e + k + w[j] & 0xFFFFFFFF\n",
    "            e, d, c, b, a = d, c, left_rotate(b, 30), a, temp\n",
    "        h0 = (h0 + a) & 0xFFFFFFFF\n",
    "        h1 = (h1 + b) & 0xFFFFFFFF\n",
    "        h2 = (h2 + c) & 0xFFFFFFFF\n",
    "        h3 = (h3 + d) & 0xFFFFFFFF\n",
    "        h4 = (h4 + e) & 0xFFFFFFFF\n",
    "    result = f\"{h0:08x}{h1:08x}{h2:08x}{h3:08x}{h4:08x}\"\n",
    "    return result.upper()\n",
    "\n",
    "# Test cases\n",
    "print(f'SHA1(\"\") = {sha1(b\"\"):s}')\n",
    "print(f'SHA1(\"abc\") = {sha1(b\"abc\"):s}')\n",
    "print(f'SHA1(\"abcdefghijklmnopqrstuvwxyz\") = {sha1(b\"abcdefghijklmnopqrstuvwxyz\"):s}')"
   ]
  },
  {
   "cell_type": "code",
   "execution_count": null,
   "id": "4017615c-5df2-4c04-abc2-51e795d4a8c0",
   "metadata": {},
   "outputs": [],
   "source": []
  }
 ],
 "metadata": {
  "kernelspec": {
   "display_name": "Python 3 (ipykernel)",
   "language": "python",
   "name": "python3"
  },
  "language_info": {
   "codemirror_mode": {
    "name": "ipython",
    "version": 3
   },
   "file_extension": ".py",
   "mimetype": "text/x-python",
   "name": "python",
   "nbconvert_exporter": "python",
   "pygments_lexer": "ipython3",
   "version": "3.11.7"
  }
 },
 "nbformat": 4,
 "nbformat_minor": 5
}
